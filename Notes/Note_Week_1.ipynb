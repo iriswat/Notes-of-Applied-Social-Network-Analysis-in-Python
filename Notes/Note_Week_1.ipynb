{
 "cells": [
  {
   "cell_type": "markdown",
   "metadata": {},
   "source": [
    "Network (or Graph): A representation of connections among a set of items.\n",
    "\n",
    "$ Items are called nodes (or vertices)\n",
    "$ Connections are called edges (or link or ties)"
   ]
  },
  {
   "cell_type": "code",
   "execution_count": 1,
   "metadata": {
    "collapsed": true
   },
   "outputs": [],
   "source": [
    "import networkx as nx\n",
    "G=nx.Graph()   # create a graph \n",
    "G.add_edge('A','B')   # create an edge between node A and node B\n",
    "G.add_edge('B','C')"
   ]
  },
  {
   "cell_type": "markdown",
   "metadata": {},
   "source": [
    "Symmetric relationships = two way relationships = undirected network (e.g. friendship) = edges have no direction\n",
    "\n",
    "One way relationship = Asymmetric relationships = directed network (e.g. food chain) = edges have direction "
   ]
  },
  {
   "cell_type": "code",
   "execution_count": null,
   "metadata": {
    "collapsed": true
   },
   "outputs": [],
   "source": [
    "# Undirected network\n",
    "G = nx.Graph()\n",
    "G.add_edge('A','B')\n",
    "G.add_edge('B','C')"
   ]
  },
  {
   "cell_type": "code",
   "execution_count": null,
   "metadata": {
    "collapsed": true
   },
   "outputs": [],
   "source": [
    "#Directed network\n",
    "G = nx. DiGraph()\n",
    "G.add_edge('B', 'A')\n",
    "G.add_edge('B','C')"
   ]
  },
  {
   "cell_type": "markdown",
   "metadata": {},
   "source": [
    "Weighted Networks\n",
    "\n",
    "Not all relationships are equal. Some edges carry higher weight than others.\n",
    "\n",
    "A network where edges are assigned a (typically numerical) weight."
   ]
  },
  {
   "cell_type": "code",
   "execution_count": null,
   "metadata": {
    "collapsed": true
   },
   "outputs": [],
   "source": [
    "G=nx.Graph()\n",
    "G.add_edge('A','B', weight = 6)\n",
    "G.add_edge('B','C', weight = 13)"
   ]
  },
  {
   "cell_type": "markdown",
   "metadata": {},
   "source": [
    "Signed Networks\n",
    "\n",
    "A network where edges are assigned positive or negative sign.\n",
    "\n",
    "e.g. Some networks can carry information about friendship and antagonism based on conflict or disagreement."
   ]
  },
  {
   "cell_type": "code",
   "execution_count": null,
   "metadata": {
    "collapsed": true
   },
   "outputs": [],
   "source": [
    "# Signed Network\n",
    "G = nx.Graph()\n",
    "G.add_edge('A','B', sign= '+')\n",
    "G.add_edge('B','C', sign= '-')"
   ]
  },
  {
   "cell_type": "markdown",
   "metadata": {},
   "source": [
    "Self-defined Edge Attributes\n",
    "\n",
    "Edges can carry many other labels or attributes"
   ]
  },
  {
   "cell_type": "code",
   "execution_count": null,
   "metadata": {
    "collapsed": true
   },
   "outputs": [],
   "source": [
    "G = nx.Graph()\n",
    "G.add_edge('A','B', relation= 'friend')\n",
    "G.add_edge('B','C', relation= 'coworker')\n",
    "G.add_edge('D','E', relation= 'family')\n",
    "G.add_edge('E','I', relation= 'neighbor')"
   ]
  },
  {
   "cell_type": "code",
   "execution_count": null,
   "metadata": {
    "collapsed": true
   },
   "outputs": [],
   "source": [
    "Mutigraphs\n",
    "\n",
    "A network where multiple edges can connect the same nodes (parallel edges)\n",
    "\n",
    "I.e. A pair of nodes can have different types of relationships simultaneously"
   ]
  },
  {
   "cell_type": "code",
   "execution_count": null,
   "metadata": {
    "collapsed": true
   },
   "outputs": [],
   "source": [
    "# Mutigraphs\n",
    "G = nx.MultiGraph()\n",
    "G.add_edge('A','B', relation= 'friend')\n",
    "G.add_edge('A','B', relation= 'neighbor')\n",
    "G.add_edge('G','F', relation= 'family')\n",
    "G.add_edge('G','F', relation= 'coworker')"
   ]
  },
  {
   "cell_type": "markdown",
   "metadata": {},
   "source": [
    "                     # Summary # \n",
    "\n",
    "                    Graph Types:\n",
    "$ Undirected/ Directed | G=nx.Graph()\n",
    "$ Signed               | G.add_edge('A','B', sign= '+')\n",
    "$ Multigraph           | G=nx.MultiGraph()\n",
    "$ Weighted             | G.add_edge('A','B', weight = 6)"
   ]
  },
  {
   "cell_type": "markdown",
   "metadata": {},
   "source": [
    "# Example - Weighted Graph "
   ]
  },
  {
   "cell_type": "code",
   "execution_count": null,
   "metadata": {
    "collapsed": true
   },
   "outputs": [],
   "source": [
    "G=nx.Graph()\n",
    "G.add_edge('A','B', weight= 6, relation = 'family')\n",
    "G.add_edge('B','C', weight= 13, relation = 'friend')"
   ]
  },
  {
   "cell_type": "code",
   "execution_count": null,
   "metadata": {
    "collapsed": true
   },
   "outputs": [],
   "source": [
    "G.edges() #list of all edges"
   ]
  },
  {
   "cell_type": "code",
   "execution_count": null,
   "metadata": {
    "collapsed": true
   },
   "outputs": [],
   "source": [
    "G.edges(data= True) #list of all edges with attributes"
   ]
  },
  {
   "cell_type": "code",
   "execution_count": null,
   "metadata": {
    "collapsed": true
   },
   "outputs": [],
   "source": [
    "G.edges(data= 'relation') #list of all edges with attribute ‘relation’"
   ]
  },
  {
   "cell_type": "code",
   "execution_count": null,
   "metadata": {
    "collapsed": true
   },
   "outputs": [],
   "source": [
    "# Accessing attributes of a specific edge"
   ]
  },
  {
   "cell_type": "code",
   "execution_count": null,
   "metadata": {
    "collapsed": true
   },
   "outputs": [],
   "source": [
    "G.edge['A']['B'] # dictionary of attributes of edge (A, B)"
   ]
  },
  {
   "cell_type": "code",
   "execution_count": null,
   "metadata": {
    "collapsed": true
   },
   "outputs": [],
   "source": [
    "G.edge['B']['C']['weight'] # the value of weight attribute of edge (B, C)\n",
    "\n",
    "# order doesn't matter for undirected graph\n",
    "# but it does matter for directed graph, error msg if the direction is wrong"
   ]
  },
  {
   "cell_type": "markdown",
   "metadata": {},
   "source": [
    "# Example - MultiGraph"
   ]
  },
  {
   "cell_type": "code",
   "execution_count": null,
   "metadata": {
    "collapsed": true
   },
   "outputs": [],
   "source": [
    "G=nx.MultiGraph()\n",
    "G.add_edge('A','B', weight= 6, relation = 'family')\n",
    "G.add_edge('A','B', weight= 18, relation = 'friend')\n",
    "G.add_edge('C','B', weight= 13, relation = 'friend')"
   ]
  },
  {
   "cell_type": "code",
   "execution_count": null,
   "metadata": {
    "collapsed": true
   },
   "outputs": [],
   "source": [
    "G.edge['A']['B'] # One dictionary of attributes per (A,B) edge"
   ]
  },
  {
   "cell_type": "code",
   "execution_count": null,
   "metadata": {
    "collapsed": true
   },
   "outputs": [],
   "source": [
    "# the value of weight attribure of the first element for edge (A, B)\n",
    "G.edge['A']['B'][0]['weight'] "
   ]
  },
  {
   "cell_type": "markdown",
   "metadata": {},
   "source": [
    "# Example - Node Attributes"
   ]
  },
  {
   "cell_type": "code",
   "execution_count": null,
   "metadata": {
    "collapsed": true
   },
   "outputs": [],
   "source": [
    "G=nx.Graph()\n",
    "G.add_edge('A','B', weight= 6, relation = 'family')\n",
    "G.add_edge('B','C', weight= 13, relation = 'friend')"
   ]
  },
  {
   "cell_type": "code",
   "execution_count": null,
   "metadata": {
    "collapsed": true
   },
   "outputs": [],
   "source": [
    "# Adding node attributes\n",
    "G.add_node('A', role = 'trader')   # role has no \"\"\n",
    "G.add_node('B', role = 'trader')\n",
    "G.add_node('C', role = 'manager')"
   ]
  },
  {
   "cell_type": "code",
   "execution_count": null,
   "metadata": {
    "collapsed": true
   },
   "outputs": [],
   "source": [
    "# Accessing node attributes:\n",
    "G.nodes() # list of all nodes"
   ]
  },
  {
   "cell_type": "code",
   "execution_count": null,
   "metadata": {
    "collapsed": true
   },
   "outputs": [],
   "source": [
    "G.nodes(data= True) #list of all nodes with attributes"
   ]
  },
  {
   "cell_type": "code",
   "execution_count": null,
   "metadata": {
    "collapsed": true
   },
   "outputs": [],
   "source": [
    "G.node['A']['role']"
   ]
  },
  {
   "cell_type": "markdown",
   "metadata": {},
   "source": [
    "                     # Summary # \n",
    "                     \n",
    "             Adding node and edge attributes:\n",
    "G=nx.Graph()\n",
    "G.add_edge('A','B', weight= 6, relation = 'family')\n",
    "G.add_node('A', role = 'trader')\n",
    "\n",
    "             Accessing node attributes:\n",
    "G.nodes(data= True) #list of all nodes with attributes\n",
    "G.node['A']['role'] #role of node A\n",
    "\n",
    "             Accessing Edge attributes:\n",
    "In: G.edges(data= True) #list of all edges with attributes\n",
    "In: G.edges(data= ‘relation’) #list of all edges with attribute ‘relation’\n",
    "G.edge['A']['B']['weight'] # weight of edge (A,B)\n"
   ]
  },
  {
   "cell_type": "markdown",
   "metadata": {},
   "source": [
    "Bipartite Graph\n",
    "A graph whose nodes can be split into two sets L and R and every edge connects an node in L with a node in R."
   ]
  },
  {
   "cell_type": "code",
   "execution_count": null,
   "metadata": {
    "collapsed": true
   },
   "outputs": [],
   "source": [
    "from networkx.algorithms import bipartite\n",
    "B = nx.Graph() #No separate class for bipartite graphs\n",
    "B.add_nodes_from(['A’,'B','C','D', 'E'], bipartite=0)\n",
    "B.add_nodes_from([1,2,3,4], bipartite=1) \n",
    "B.add_edges_from([('A',1), ('B',1), ('C',1), ('C',3), ('D',2), ('E',3),\n",
    "('E', 4)])"
   ]
  },
  {
   "cell_type": "code",
   "execution_count": null,
   "metadata": {
    "collapsed": true
   },
   "outputs": [],
   "source": [
    "# Checking if a graph is bipartite:\n",
    "bipartite.is_bipartite(B)  # Check if B is bipartite"
   ]
  },
  {
   "cell_type": "code",
   "execution_count": null,
   "metadata": {
    "collapsed": true
   },
   "outputs": [],
   "source": [
    "# Checking if a set of nodes is a bipartition of a graph:\n",
    "X = set([1,2,3,4])\n",
    "bipartite.is_bipartite_node_set(B,X)"
   ]
  },
  {
   "cell_type": "code",
   "execution_count": null,
   "metadata": {
    "collapsed": true
   },
   "outputs": [],
   "source": [
    "X = set(['A', 'B', 'C', 'D', 'E'])\n",
    "bipartite.is_bipartite_node_set(B,X)"
   ]
  },
  {
   "cell_type": "code",
   "execution_count": null,
   "metadata": {
    "collapsed": true
   },
   "outputs": [],
   "source": [
    "# Getting each set of nodes of a bipartite graph:\n",
    "bipartite.sets(B)"
   ]
  },
  {
   "cell_type": "markdown",
   "metadata": {},
   "source": [
    "L-Bipartite graph projection\n",
    "\n",
    "Network of nodes in group L, where a pair of nodes is connected if they have a common neighbor in R in the bipartite graph."
   ]
  },
  {
   "cell_type": "code",
   "execution_count": null,
   "metadata": {
    "collapsed": true
   },
   "outputs": [],
   "source": [
    "B = nx.Graph()\n",
    "B.add_edges_from([('A',1), ('B',1), ('C',1),('D',1),('H',1), ('B', 2), ('C', 2),\n",
    "                  ('D',2),('E', 2), ('G', 2), ('E', 3), ('F', 3), ('H', 3),\n",
    "                  ('J', 3), ('E', 4), ('I', 4), ('J', 4) ])\n",
    "X = set(['A','B','C','D', 'E', 'F','G', 'H', 'I','J'])\n",
    "P = bipartite.projected_graph(B, X)"
   ]
  },
  {
   "cell_type": "code",
   "execution_count": null,
   "metadata": {
    "collapsed": true
   },
   "outputs": [],
   "source": [
    "B = nx.Graph()\n",
    "B.add_edges_from([('A',1), ('B',1), ('C',1),('D',1),('H',1), ('B', 2), ('C', 2),\n",
    "                  ('D',2),('E', 2), ('G', 2), ('E', 3), ('F', 3), ('H', 3),\n",
    "                  ('J', 3), ('E', 4), ('I', 4), ('J', 4) ])\n",
    "X = set([1,2,3,4])\n",
    "P = bipartite.projected_graph(B, X)"
   ]
  },
  {
   "cell_type": "markdown",
   "metadata": {},
   "source": [
    "L-Bipartite weighted graph projection: An LBipartite graph projection with\n",
    "weights on the edges that are proportional to the number of common neighbors \n",
    "between the nodes."
   ]
  },
  {
   "cell_type": "code",
   "execution_count": null,
   "metadata": {
    "collapsed": true
   },
   "outputs": [],
   "source": [
    "X = set([1,2,3,4])\n",
    "P = bipartite.weighted_projected_graph(B, X)"
   ]
  },
  {
   "cell_type": "markdown",
   "metadata": {},
   "source": [
    "                  # Summary #\n",
    "\n",
    "$ Check if B is bipartite\n",
    "  nx.bipartite.is_bipartite(B) \n",
    "\n",
    "$ Check if node set X is a bipartition\n",
    "  bipartite.is_bipartite_node_set(B,X) \n",
    "\n",
    "$ Get each set of nodes of bipartite graph B\n",
    "  bipartite.sets(B) \n",
    "\n",
    "$ Get the bipartite projection of node set X\n",
    "  bipartite.projected_graph(B, X) \n",
    "\n",
    "$ Get the weighted bipartite projection of node set X\n",
    "  bipartite.weighted_projected_graph(B, X) "
   ]
  },
  {
   "cell_type": "code",
   "execution_count": null,
   "metadata": {
    "collapsed": true
   },
   "outputs": [],
   "source": []
  }
 ],
 "metadata": {
  "kernelspec": {
   "display_name": "Python 3",
   "language": "python",
   "name": "python3"
  },
  "language_info": {
   "codemirror_mode": {
    "name": "ipython",
    "version": 3
   },
   "file_extension": ".py",
   "mimetype": "text/x-python",
   "name": "python",
   "nbconvert_exporter": "python",
   "pygments_lexer": "ipython3",
   "version": "3.6.0"
  }
 },
 "nbformat": 4,
 "nbformat_minor": 2
}
